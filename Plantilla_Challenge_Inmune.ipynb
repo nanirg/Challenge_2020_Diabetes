{
  "nbformat": 4,
  "nbformat_minor": 0,
  "metadata": {
    "colab": {
      "name": "Plantilla_Challenge_Inmune.ipynb",
      "provenance": []
    },
    "kernelspec": {
      "name": "python3",
      "display_name": "Python 3"
    }
  },
  "cells": [
    {
      "cell_type": "code",
      "metadata": {
        "id": "YYkQJXsD8ybz",
        "colab_type": "code",
        "colab": {}
      },
      "source": [
        "import pandas as pd # libreria básica para cargar y manipular datos\n",
        "import matplotlib.pyplot as plt # librería básica pàra representaciones\n",
        "import numpy as np # representaciones en vectores y matrices"
      ],
      "execution_count": 0,
      "outputs": []
    },
    {
      "cell_type": "markdown",
      "metadata": {
        "id": "vJKWuyDj91Pq",
        "colab_type": "text"
      },
      "source": [
        "En la siguiente linea se carga el conjunto de datos y se pide el principio del mismo para comprobar que la carga ha sido correcta\n"
      ]
    },
    {
      "cell_type": "code",
      "metadata": {
        "id": "JGAwP5fd9uO5",
        "colab_type": "code",
        "colab": {}
      },
      "source": [
        "df = pd.read_csv('diabetes.csv')\n",
        "df.head()"
      ],
      "execution_count": 0,
      "outputs": []
    },
    {
      "cell_type": "markdown",
      "metadata": {
        "id": "nc3PHl9v-BeR",
        "colab_type": "text"
      },
      "source": [
        "Parte 1 - Descripción de datos:\n",
        "\n",
        "En esta parte se espera que exploreis lo que significa cada variable para identificar los nulos y como están codificados y estudieis las distribuciones de cada variable por si misma, y las correlaciones entre ellas.\n",
        "\n",
        "Por ejemplo, BMI es el Body Mass Index, en el cual se considera que se está en infrapeso por debajo de 18.5. Debereis usar esta informacion para buscar valores que no correspondan en esta variable"
      ]
    },
    {
      "cell_type": "code",
      "metadata": {
        "id": "KztY43Et-dVJ",
        "colab_type": "code",
        "colab": {}
      },
      "source": [
        "# df.corr() da la matriz de correlacion en un conjunto de datos, df[\"Variable:name\"].value_counts() da la distribución por valores de la variable \"Variable_name\". df.replace(x,np.NaN) reemplaza los valores x por NaN, os sera util ;)"
      ],
      "execution_count": 0,
      "outputs": []
    },
    {
      "cell_type": "markdown",
      "metadata": {
        "id": "4gDu_Ckx_Ujg",
        "colab_type": "text"
      },
      "source": [
        "Parte 2.1 - Alteraciones del conjunto de datos\n",
        "\n",
        "En este apartado debereis reemplazar los nulos que habeis detectado por otros valores que considereis, por lo general media, moda pero puede ser el valor que considereis. Se espera que en la presentacion deis el motivo de esta eleccion"
      ]
    },
    {
      "cell_type": "code",
      "metadata": {
        "id": "mjqU9td0__pQ",
        "colab_type": "code",
        "colab": {}
      },
      "source": [
        "#  df[[\"Glucose\",\"Outcome\"]].groupby([\"Outcome\"])[[\"Glucose\"]].median() os devuelve por ejemplo la mediana de la variable glucosa en funcion de si el resultado de la prueba es que hay diabetes o no"
      ],
      "execution_count": 0,
      "outputs": []
    },
    {
      "cell_type": "markdown",
      "metadata": {
        "id": "mupJDRw5AU1B",
        "colab_type": "text"
      },
      "source": [
        "Parte 2.2 - Alteraciones del conjunto de datos\n",
        "\n",
        "Las siguientes alteracines que debeis realizar serán las de añadir las variables artificiales que considereis. Ya que solo hay una fuente de datos, estas variables se obtienen como combinación de las variables ya existentes en el dataset."
      ]
    },
    {
      "cell_type": "code",
      "metadata": {
        "id": "2N1D2jUKA7yY",
        "colab_type": "code",
        "colab": {}
      },
      "source": [
        "# df.loc[:,'N0']=df.loc[:,'Pregnancies']/df.loc[:,'Age']  \n",
        "# La linea anterior cera la variable N0 en la que se codifica el ratio de embarazos que ha tenido la paciente en función de su edad, que considereamos podría ser una variablae candidata."
      ],
      "execution_count": 0,
      "outputs": []
    },
    {
      "cell_type": "markdown",
      "metadata": {
        "id": "pmC1CUSsBaPR",
        "colab_type": "text"
      },
      "source": [
        "Parte 3 - Entrenamiento\n",
        "\n",
        "En esta secciónse espera que entrenéis un modelo que resuelva este problema de clasificación. Ya que la mayoria de modelos dependen de hiperparámetros, se espera que los afineis para obtener el mejor resultado\n"
      ]
    },
    {
      "cell_type": "code",
      "metadata": {
        "id": "GMH7IdXVB9fI",
        "colab_type": "code",
        "colab": {}
      },
      "source": [
        "from sklearn.model_selection import train_test_split # separar conjunto de datos\n",
        "from sklearn.ensemble import RandomForestClassifier # ejemplo de modelo a utilizar\n",
        "from sklearn.metrics import confusion_matrix # para evaluar los resultados del modelo\n",
        "X = df.drop([\"Outcome\"], axis=1)\n",
        "y = df[\"Outcome\"]\n",
        "X_train, X_test, y_train, y_test = train_test_split(X, y, test_size=0.33, random_state=42) # de esta manera se separa el conjunto de datos en dos secciones, una para entrenar y otra para verificar los resultados del entrenamiento"
      ],
      "execution_count": 0,
      "outputs": []
    }
  ]
}